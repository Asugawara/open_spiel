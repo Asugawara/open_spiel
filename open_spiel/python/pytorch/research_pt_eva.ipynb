{
 "cells": [
  {
   "cell_type": "code",
   "execution_count": 1,
   "metadata": {},
   "outputs": [],
   "source": [
    "from open_spiel.python import policy\n",
    "from open_spiel.python import rl_environment\n",
    "from open_spiel.python.algorithms import exploitability\n",
    "import pyspiel\n",
    "\n",
    "import eva\n",
    "\n",
    "class JointPolicy(policy.Policy):\n",
    "  \"\"\"Joint policy to be evaluated.\"\"\"\n",
    "\n",
    "  def __init__(self, agents):\n",
    "    self._agents = agents\n",
    "\n",
    "  def action_probabilities(self, state, player_id=None):\n",
    "    cur_player = state.current_player()\n",
    "    return self._agents[cur_player].action_probabilities(state)\n",
    "\n",
    "\n",
    "def pt_main(game_name, num_episodes):\n",
    "  env_configs = {\"players\": 2}\n",
    "  env = rl_environment.Environment(game_name, **env_configs)\n",
    "  num_players = env.num_players\n",
    "  num_actions = env.action_spec()[\"num_actions\"]\n",
    "  state_size = env.observation_spec()[\"info_state\"][0]\n",
    "  eva_agents = []\n",
    "  for player in range(num_players):\n",
    "    eva_agents.append(\n",
    "        eva.EVAAgent(\n",
    "            env,\n",
    "            player,\n",
    "            state_size,\n",
    "            num_actions,\n",
    "            batch_size=128,\n",
    "            learning_rate=0.01,\n",
    "            mixing_parameter=0.5,\n",
    "            memory_capacity=int(1e6),\n",
    "            discount_factor=1.0,\n",
    "            update_target_network_every=1000,\n",
    "            epsilon_start=0.06,\n",
    "            epsilon_end=0.001,\n",
    "            epsilon_decay_duration=int(1e6)))\n",
    "  \n",
    "  joint_policy = JointPolicy(eva_agents)\n",
    "  \n",
    "  result = []\n",
    "  for episode in range(num_episodes):\n",
    "    if (episode + 1) % 1000 == 0:\n",
    "      conv = exploitability.nash_conv(env.game, joint_policy)\n",
    "      result.append(conv)\n",
    "      print(\"Episode:%s - NashConv: %s\" %(episode+1, conv))\n",
    "      \n",
    "    time_step = env.reset()\n",
    "    while not time_step.last():\n",
    "      current_player = time_step.observations[\"current_player\"]\n",
    "      current_agent = eva_agents[current_player]\n",
    "      step_out = current_agent.step(time_step)\n",
    "      time_step = env.step([step_out.action])\n",
    "        \n",
    "    for agent in eva_agents:\n",
    "      agent.step(time_step)\n",
    "        \n",
    "  return result\n"
   ]
  },
  {
   "cell_type": "code",
   "execution_count": 3,
   "metadata": {},
   "outputs": [
    {
     "name": "stdout",
     "output_type": "stream",
     "text": [
      "Episode:1000 - NashConv: 0.9117420066336805\n",
      "Episode:2000 - NashConv: 0.7940201644225783\n",
      "Episode:3000 - NashConv: 0.7288770716970222\n",
      "Episode:4000 - NashConv: 0.6910837244776069\n",
      "Episode:5000 - NashConv: 0.6371336078693635\n",
      "Episode:6000 - NashConv: 0.5907259362084191\n",
      "Episode:7000 - NashConv: 0.5574534220973357\n",
      "Episode:8000 - NashConv: 0.535207538216038\n",
      "Episode:9000 - NashConv: 0.5255008743026045\n",
      "Episode:10000 - NashConv: 0.5212872126513359\n",
      "Episode:11000 - NashConv: 0.5251768393628992\n",
      "Episode:12000 - NashConv: 0.5195450900686065\n",
      "Episode:13000 - NashConv: 0.5142098394847641\n",
      "Episode:14000 - NashConv: 0.5130339942029863\n",
      "Episode:15000 - NashConv: 0.5081925707640036\n",
      "Episode:16000 - NashConv: 0.5081132336912204\n",
      "Episode:17000 - NashConv: 0.502744607793246\n",
      "Episode:18000 - NashConv: 0.5031543143834853\n",
      "Episode:19000 - NashConv: 0.5098682246087921\n",
      "Episode:20000 - NashConv: 0.5149615066565998\n",
      "[0.9117420066336805, 0.7940201644225783, 0.7288770716970222, 0.6910837244776069, 0.6371336078693635, 0.5907259362084191, 0.5574534220973357, 0.535207538216038, 0.5255008743026045, 0.5212872126513359, 0.5251768393628992, 0.5195450900686065, 0.5142098394847641, 0.5130339942029863, 0.5081925707640036, 0.5081132336912204, 0.502744607793246, 0.5031543143834853, 0.5098682246087921, 0.5149615066565998]\n",
      "Episode:1000 - NashConv: 0.9070671661440455\n",
      "Episode:2000 - NashConv: 0.8130276511408202\n",
      "Episode:3000 - NashConv: 0.7633326123528431\n",
      "Episode:4000 - NashConv: 0.7316673098332152\n",
      "Episode:5000 - NashConv: 0.6823524408960846\n"
     ]
    },
    {
     "ename": "KeyboardInterrupt",
     "evalue": "",
     "output_type": "error",
     "traceback": [
      "\u001b[0;31m-------------------------------------\u001b[0m",
      "\u001b[0;31mKeyboardInterrupt\u001b[0mTraceback (most recent call last)",
      "\u001b[0;32m<ipython-input-3-ed66a2b3aaad>\u001b[0m in \u001b[0;36m<module>\u001b[0;34m()\u001b[0m\n\u001b[1;32m      1\u001b[0m \u001b[0mpt_result\u001b[0m \u001b[0;34m=\u001b[0m \u001b[0;34m[\u001b[0m\u001b[0;34m]\u001b[0m\u001b[0;34m\u001b[0m\u001b[0;34m\u001b[0m\u001b[0m\n\u001b[1;32m      2\u001b[0m \u001b[0;32mfor\u001b[0m \u001b[0m_\u001b[0m \u001b[0;32min\u001b[0m \u001b[0mrange\u001b[0m\u001b[0;34m(\u001b[0m\u001b[0;36m3\u001b[0m\u001b[0;34m)\u001b[0m\u001b[0;34m:\u001b[0m\u001b[0;34m\u001b[0m\u001b[0;34m\u001b[0m\u001b[0m\n\u001b[0;32m----> 3\u001b[0;31m     \u001b[0mresult\u001b[0m \u001b[0;34m=\u001b[0m \u001b[0mpt_main\u001b[0m\u001b[0;34m(\u001b[0m\u001b[0;34m'kuhn_poker'\u001b[0m\u001b[0;34m,\u001b[0m \u001b[0;36m20000\u001b[0m\u001b[0;34m)\u001b[0m\u001b[0;34m\u001b[0m\u001b[0;34m\u001b[0m\u001b[0m\n\u001b[0m\u001b[1;32m      4\u001b[0m     \u001b[0mprint\u001b[0m\u001b[0;34m(\u001b[0m\u001b[0mresult\u001b[0m\u001b[0;34m)\u001b[0m\u001b[0;34m\u001b[0m\u001b[0;34m\u001b[0m\u001b[0m\n\u001b[1;32m      5\u001b[0m     \u001b[0mpt_result\u001b[0m\u001b[0;34m.\u001b[0m\u001b[0mappend\u001b[0m\u001b[0;34m(\u001b[0m\u001b[0mresult\u001b[0m\u001b[0;34m)\u001b[0m\u001b[0;34m\u001b[0m\u001b[0;34m\u001b[0m\u001b[0m\n",
      "\u001b[0;32m<ipython-input-1-3cb659f7b793>\u001b[0m in \u001b[0;36mpt_main\u001b[0;34m(game_name, num_episodes)\u001b[0m\n\u001b[1;32m     58\u001b[0m \u001b[0;34m\u001b[0m\u001b[0m\n\u001b[1;32m     59\u001b[0m     \u001b[0;32mfor\u001b[0m \u001b[0magent\u001b[0m \u001b[0;32min\u001b[0m \u001b[0meva_agents\u001b[0m\u001b[0;34m:\u001b[0m\u001b[0;34m\u001b[0m\u001b[0;34m\u001b[0m\u001b[0m\n\u001b[0;32m---> 60\u001b[0;31m       \u001b[0magent\u001b[0m\u001b[0;34m.\u001b[0m\u001b[0mstep\u001b[0m\u001b[0;34m(\u001b[0m\u001b[0mtime_step\u001b[0m\u001b[0;34m)\u001b[0m\u001b[0;34m\u001b[0m\u001b[0;34m\u001b[0m\u001b[0m\n\u001b[0m\u001b[1;32m     61\u001b[0m \u001b[0;34m\u001b[0m\u001b[0m\n\u001b[1;32m     62\u001b[0m   \u001b[0;32mreturn\u001b[0m \u001b[0mresult\u001b[0m\u001b[0;34m\u001b[0m\u001b[0;34m\u001b[0m\u001b[0m\n",
      "\u001b[0;32m/Users/sugawara/dev/open_spiel/open_spiel/python/pytorch/eva.py\u001b[0m in \u001b[0;36mstep\u001b[0;34m(self, time_step, is_evaluation)\u001b[0m\n\u001b[1;32m    246\u001b[0m       neighbours_value = self._value_buffer.knn(infostate_embedding,\n\u001b[1;32m    247\u001b[0m                                                 \u001b[0mMEM_KEY_NAME\u001b[0m\u001b[0;34m,\u001b[0m\u001b[0;34m\u001b[0m\u001b[0;34m\u001b[0m\u001b[0m\n\u001b[0;32m--> 248\u001b[0;31m                                                 self._num_neighbours, 1)\n\u001b[0m\u001b[1;32m    249\u001b[0m       \u001b[0;31m# collect trace values of knn from L (value buffer) .. Q_np(s_k)\u001b[0m\u001b[0;34m\u001b[0m\u001b[0;34m\u001b[0m\u001b[0;34m\u001b[0m\u001b[0m\n\u001b[1;32m    250\u001b[0m       neighbours_replay = self._replay_buffer.knn(infostate_embedding,\n",
      "\u001b[0;32m/Users/sugawara/dev/open_spiel/open_spiel/python/pytorch/eva.py\u001b[0m in \u001b[0;36mknn\u001b[0;34m(self, key, key_name, k, trajectory_len)\u001b[0m\n\u001b[1;32m     67\u001b[0m     \"\"\"\n\u001b[1;32m     68\u001b[0m     distances = [(np.linalg.norm(getattr(sample, key_name) - key, 2,\n\u001b[0;32m---> 69\u001b[0;31m                                  axis=0), sample) for sample in self._data]\n\u001b[0m\u001b[1;32m     70\u001b[0m     \u001b[0;32mreturn\u001b[0m \u001b[0msorted\u001b[0m\u001b[0;34m(\u001b[0m\u001b[0mdistances\u001b[0m\u001b[0;34m,\u001b[0m \u001b[0mkey\u001b[0m\u001b[0;34m=\u001b[0m\u001b[0;32mlambda\u001b[0m \u001b[0mv\u001b[0m\u001b[0;34m:\u001b[0m \u001b[0;34m-\u001b[0m\u001b[0mv\u001b[0m\u001b[0;34m[\u001b[0m\u001b[0;36m0\u001b[0m\u001b[0;34m]\u001b[0m\u001b[0;34m)\u001b[0m\u001b[0;34m[\u001b[0m\u001b[0;34m:\u001b[0m\u001b[0mk\u001b[0m\u001b[0;34m]\u001b[0m\u001b[0;34m\u001b[0m\u001b[0;34m\u001b[0m\u001b[0m\n\u001b[1;32m     71\u001b[0m \u001b[0;34m\u001b[0m\u001b[0m\n",
      "\u001b[0;32m/Users/sugawara/dev/open_spiel/open_spiel/python/pytorch/eva.py\u001b[0m in \u001b[0;36m<listcomp>\u001b[0;34m(.0)\u001b[0m\n\u001b[1;32m     67\u001b[0m     \"\"\"\n\u001b[1;32m     68\u001b[0m     distances = [(np.linalg.norm(getattr(sample, key_name) - key, 2,\n\u001b[0;32m---> 69\u001b[0;31m                                  axis=0), sample) for sample in self._data]\n\u001b[0m\u001b[1;32m     70\u001b[0m     \u001b[0;32mreturn\u001b[0m \u001b[0msorted\u001b[0m\u001b[0;34m(\u001b[0m\u001b[0mdistances\u001b[0m\u001b[0;34m,\u001b[0m \u001b[0mkey\u001b[0m\u001b[0;34m=\u001b[0m\u001b[0;32mlambda\u001b[0m \u001b[0mv\u001b[0m\u001b[0;34m:\u001b[0m \u001b[0;34m-\u001b[0m\u001b[0mv\u001b[0m\u001b[0;34m[\u001b[0m\u001b[0;36m0\u001b[0m\u001b[0;34m]\u001b[0m\u001b[0;34m)\u001b[0m\u001b[0;34m[\u001b[0m\u001b[0;34m:\u001b[0m\u001b[0mk\u001b[0m\u001b[0;34m]\u001b[0m\u001b[0;34m\u001b[0m\u001b[0;34m\u001b[0m\u001b[0m\n\u001b[1;32m     71\u001b[0m \u001b[0;34m\u001b[0m\u001b[0m\n",
      "\u001b[0;32m<__array_function__ internals>\u001b[0m in \u001b[0;36mnorm\u001b[0;34m(*args, **kwargs)\u001b[0m\n",
      "\u001b[0;32m/Users/sugawara/.pyenv/versions/3.7.3/lib/python3.7/site-packages/numpy/linalg/linalg.py\u001b[0m in \u001b[0;36mnorm\u001b[0;34m(x, ord, axis, keepdims)\u001b[0m\n\u001b[1;32m   2505\u001b[0m             \u001b[0;31m# special case for speedup\u001b[0m\u001b[0;34m\u001b[0m\u001b[0;34m\u001b[0m\u001b[0;34m\u001b[0m\u001b[0m\n\u001b[1;32m   2506\u001b[0m             \u001b[0ms\u001b[0m \u001b[0;34m=\u001b[0m \u001b[0;34m(\u001b[0m\u001b[0mx\u001b[0m\u001b[0;34m.\u001b[0m\u001b[0mconj\u001b[0m\u001b[0;34m(\u001b[0m\u001b[0;34m)\u001b[0m \u001b[0;34m*\u001b[0m \u001b[0mx\u001b[0m\u001b[0;34m)\u001b[0m\u001b[0;34m.\u001b[0m\u001b[0mreal\u001b[0m\u001b[0;34m\u001b[0m\u001b[0;34m\u001b[0m\u001b[0m\n\u001b[0;32m-> 2507\u001b[0;31m             \u001b[0;32mreturn\u001b[0m \u001b[0msqrt\u001b[0m\u001b[0;34m(\u001b[0m\u001b[0madd\u001b[0m\u001b[0;34m.\u001b[0m\u001b[0mreduce\u001b[0m\u001b[0;34m(\u001b[0m\u001b[0ms\u001b[0m\u001b[0;34m,\u001b[0m \u001b[0maxis\u001b[0m\u001b[0;34m=\u001b[0m\u001b[0maxis\u001b[0m\u001b[0;34m,\u001b[0m \u001b[0mkeepdims\u001b[0m\u001b[0;34m=\u001b[0m\u001b[0mkeepdims\u001b[0m\u001b[0;34m)\u001b[0m\u001b[0;34m)\u001b[0m\u001b[0;34m\u001b[0m\u001b[0;34m\u001b[0m\u001b[0m\n\u001b[0m\u001b[1;32m   2508\u001b[0m         \u001b[0;32melse\u001b[0m\u001b[0;34m:\u001b[0m\u001b[0;34m\u001b[0m\u001b[0;34m\u001b[0m\u001b[0m\n\u001b[1;32m   2509\u001b[0m             \u001b[0;32mtry\u001b[0m\u001b[0;34m:\u001b[0m\u001b[0;34m\u001b[0m\u001b[0;34m\u001b[0m\u001b[0m\n",
      "\u001b[0;31mKeyboardInterrupt\u001b[0m: "
     ]
    }
   ],
   "source": [
    "pt_result = []\n",
    "for _ in range(3):\n",
    "    result = pt_main('kuhn_poker', 20000)\n",
    "    print(result)\n",
    "    pt_result.append(result)"
   ]
  },
  {
   "cell_type": "code",
   "execution_count": null,
   "metadata": {},
   "outputs": [],
   "source": [
    "pt_result"
   ]
  },
  {
   "cell_type": "code",
   "execution_count": null,
   "metadata": {},
   "outputs": [],
   "source": []
  }
 ],
 "metadata": {
  "kernelspec": {
   "display_name": "Python 3",
   "language": "python",
   "name": "python3"
  },
  "language_info": {
   "codemirror_mode": {
    "name": "ipython",
    "version": 3
   },
   "file_extension": ".py",
   "mimetype": "text/x-python",
   "name": "python",
   "nbconvert_exporter": "python",
   "pygments_lexer": "ipython3",
   "version": "3.7.3"
  }
 },
 "nbformat": 4,
 "nbformat_minor": 4
}
